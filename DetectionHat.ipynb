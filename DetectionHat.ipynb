import cv2
import time
import requests
import base64
import json

# Konfigurasi
API_KEY = "123asd123edsafasd2312"  # Ganti dengan API key kamu
MODEL_ID = "hard-hats-fhbh5/6" #Ganti Model Kamu Disini
INTERVAL = 3  # dalam detik

# URL endpoint
url = f"https://detect.roboflow.com/{MODEL_ID}?api_key={API_KEY}"

# Buka kamera
cap = cv2.VideoCapture(0)

try:
    while True:
        ret, frame = cap.read()
        if not ret:
            print("Gagal membuka kamera.")
            break

        # Encode frame ke JPG memory buffer
        _, buffer = cv2.imencode(".jpg", frame)
        img_b64 = base64.b64encode(buffer).decode("utf-8")

        # Kirim ke Roboflow API
        response = requests.post(
            url,
            data=img_b64,
            headers={"Content-Type": "application/x-www-form-urlencoded"}
        )

        # Parse hasil
        result = response.json()
        print(json.dumps(result, indent=2))

        # Tampilkan hasil ke frame
        for pred in result.get("predictions", []):
            x, y = int(pred["x"]), int(pred["y"])
            w, h = int(pred["width"]), int(pred["height"])
            label = pred["class"]
            conf = pred["confidence"]

            x1, y1 = x - w // 2, y - h // 2
            x2, y2 = x + w // 2, y + h // 2

            cv2.rectangle(frame, (x1, y1), (x2, y2), (0, 255, 0), 2)
            cv2.putText(frame, f"{label} {conf:.2f}", (x1, y1 - 10),
                        cv2.FONT_HERSHEY_SIMPLEX, 0.6, (0, 0, 255), 2)

        # Tampilkan frame
        cv2.imshow("Deteksi Hard Hat (Roboflow)", frame)

        # Tunggu 3 detik
        if cv2.waitKey(1) & 0xFF == ord('q'):
            break
        time.sleep(INTERVAL)

except KeyboardInterrupt:
    print("Dihentikan oleh user.")

finally:
    cap.release()
    cv2.destroyAllWindows()
